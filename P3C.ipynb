{
 "cells": [
  {
   "cell_type": "code",
   "execution_count": 12,
   "metadata": {},
   "outputs": [],
   "source": [
    "#imports\n",
    "import numpy as np"
   ]
  },
  {
   "cell_type": "code",
   "execution_count": 28,
   "metadata": {},
   "outputs": [],
   "source": [
    "# Load Data\n",
    "data = np.genfromtxt('scale-d-10d.csv', delimiter=' ')\n",
    "data = data[:,0:9]\n",
    "\n",
    "labels = np.genfromtxt('scale-d-10d.csv', delimiter=' ',dtype=\"|U5\")\n",
    "labels = labels[:,10]"
   ]
  },
  {
   "cell_type": "code",
   "execution_count": null,
   "metadata": {},
   "outputs": [],
   "source": []
  },
  {
   "cell_type": "code",
   "execution_count": 30,
   "metadata": {},
   "outputs": [
    {
     "name": "stdout",
     "output_type": "stream",
     "text": [
      "[[ 0.65264191 -0.00371625  0.01521223 ...  0.21708319  0.78426444\n",
      "   0.27407853]\n",
      " [ 1.01930291  0.35519293  0.47796839 ...  0.60008908  0.35612478\n",
      "   0.24724175]\n",
      " [ 0.5940366  -0.33190342 -0.10154468 ...  0.68686449  0.53546747\n",
      "   1.27822433]\n",
      " ...\n",
      " [ 0.84569877  0.35925799  0.64490759 ...  0.87088832  0.63797899\n",
      "   0.87146842]\n",
      " [ 0.27499317  0.49355767  0.20943054 ...  0.93080848  0.72043327\n",
      "   1.42526599]\n",
      " [ 0.39640662  0.57944655  0.980204   ...  0.0876678   0.15534795\n",
      "   0.67756318]]\n",
      "(10000, 9)\n",
      "['C1' 'C1' 'C1' ... 'C100' 'C100' 'C100']\n",
      "(10000,)\n"
     ]
    }
   ],
   "source": [
    "print(data)\n",
    "print(data.shape)\n",
    "\n",
    "print(labels)\n",
    "print(labels.shape)"
   ]
  },
  {
   "cell_type": "code",
   "execution_count": null,
   "metadata": {},
   "outputs": [],
   "source": []
  }
 ],
 "metadata": {
  "kernelspec": {
   "display_name": "Python 3",
   "language": "python",
   "name": "python3"
  },
  "language_info": {
   "codemirror_mode": {
    "name": "ipython",
    "version": 3
   },
   "file_extension": ".py",
   "mimetype": "text/x-python",
   "name": "python",
   "nbconvert_exporter": "python",
   "pygments_lexer": "ipython3",
   "version": "3.8.5"
  }
 },
 "nbformat": 4,
 "nbformat_minor": 4
}
