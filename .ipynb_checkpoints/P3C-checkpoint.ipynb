{
 "cells": [
  {
   "cell_type": "code",
   "execution_count": 1,
   "metadata": {},
   "outputs": [],
   "source": [
    "#imports\n",
    "import numpy as np\n",
    "import math"
   ]
  },
  {
   "cell_type": "code",
   "execution_count": 2,
   "metadata": {},
   "outputs": [],
   "source": [
    "# Load Data\n",
    "data = np.genfromtxt('scale-d-10d.csv', delimiter=' ')\n",
    "data = data[:,0:9]\n",
    "\n",
    "labels = np.genfromtxt('scale-d-10d.csv', delimiter=' ',dtype=\"|U5\")\n",
    "labels = labels[:,10]"
   ]
  },
  {
   "cell_type": "code",
   "execution_count": 4,
   "metadata": {},
   "outputs": [],
   "source": [
    "def proj_true_p_signature(M):\n",
    "    # n = number of data objects\n",
    "    n = M.shape[0]\n",
    "    #\n",
    "    attribute_number = M.shape[1]\n",
    "    # number of bins\n",
    "    bin_number = int(1 + math.log(n,2))\n",
    "    # For every bin in every attribute, its support is computed\n",
    "    # SupportSet = {x ∈ D | x.aj ∈ S }\n",
    "    supp_sets = compute_support(M, attribute_number, bin_number)\n",
    "    \n",
    "\n",
    "\n",
    "    return None"
   ]
  },
  {
   "cell_type": "code",
   "execution_count": null,
   "metadata": {},
   "outputs": [],
   "source": [
    "def compute_support(M, attribute_number, bin_number):\n",
    "    \n",
    "    return None"
   ]
  },
  {
   "cell_type": "code",
   "execution_count": 5,
   "metadata": {},
   "outputs": [
    {
     "name": "stdout",
     "output_type": "stream",
     "text": [
      "[[ 0.65264191 -0.00371625  0.01521223 ...  0.21708319  0.78426444\n",
      "   0.27407853]\n",
      " [ 1.01930291  0.35519293  0.47796839 ...  0.60008908  0.35612478\n",
      "   0.24724175]\n",
      " [ 0.5940366  -0.33190342 -0.10154468 ...  0.68686449  0.53546747\n",
      "   1.27822433]\n",
      " ...\n",
      " [ 0.84569877  0.35925799  0.64490759 ...  0.87088832  0.63797899\n",
      "   0.87146842]\n",
      " [ 0.27499317  0.49355767  0.20943054 ...  0.93080848  0.72043327\n",
      "   1.42526599]\n",
      " [ 0.39640662  0.57944655  0.980204   ...  0.0876678   0.15534795\n",
      "   0.67756318]]\n",
      "(10000, 9)\n",
      "['C1' 'C1' 'C1' ... 'C100' 'C100' 'C100']\n",
      "(10000,)\n",
      "14\n"
     ]
    }
   ],
   "source": [
    "print(data)\n",
    "print(data.shape)\n",
    "\n",
    "print(labels)\n",
    "print(labels.shape)\n",
    "\n",
    "\n",
    "print(int(1 + math.log(data.shape[0],2)))"
   ]
  },
  {
   "cell_type": "code",
   "execution_count": 163,
   "metadata": {},
   "outputs": [
    {
     "data": {
      "text/plain": [
       "[[[array([1, 2])], [array([1, 2])], [array([1, 2])]],\n",
       " [[array([1, 2])], [array([1, 2])], [array([1, 2])]]]"
      ]
     },
     "execution_count": 163,
     "metadata": {},
     "output_type": "execute_result"
    }
   ],
   "source": [
    "# Extra\n",
    "M = np.array([[1, 2], [4, 5], [3, 3], [6, 7]])\n",
    "n = M.shape[0]\n",
    "attribute_number = M.shape[1]\n",
    "bin_number = int(1 + math.log(n,2))\n",
    "list_of_supports = []\n",
    "\n",
    "for i in range(attribute_number):\n",
    "    supp_set = [[]] * bin_number\n",
    "    \n",
    "    for j in range(n):\n",
    "        if M[j,i] < 3:\n",
    "            0\n",
    "        \n",
    "        \n",
    "    \n",
    "    list_of_supports.append(supp_set)\n",
    "\n",
    "\n",
    "\n",
    "list_of_supports"
   ]
  },
  {
   "cell_type": "code",
   "execution_count": 167,
   "metadata": {},
   "outputs": [
    {
     "data": {
      "text/plain": [
       "[[array([4, 5])], [array([4, 5])], [array([4, 5])]]"
      ]
     },
     "execution_count": 167,
     "metadata": {},
     "output_type": "execute_result"
    }
   ],
   "source": [
    "supp_set = [[]] * 3\n",
    "supp_set[0].append(M[1])\n",
    "\n",
    "supp_set"
   ]
  },
  {
   "cell_type": "code",
   "execution_count": null,
   "metadata": {},
   "outputs": [],
   "source": []
  }
 ],
 "metadata": {
  "kernelspec": {
   "display_name": "Python 3",
   "language": "python",
   "name": "python3"
  },
  "language_info": {
   "codemirror_mode": {
    "name": "ipython",
    "version": 3
   },
   "file_extension": ".py",
   "mimetype": "text/x-python",
   "name": "python",
   "nbconvert_exporter": "python",
   "pygments_lexer": "ipython3",
   "version": "3.8.5"
  }
 },
 "nbformat": 4,
 "nbformat_minor": 4
}
