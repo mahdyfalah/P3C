{
 "cells": [
  {
   "cell_type": "code",
   "execution_count": 10,
   "metadata": {},
   "outputs": [],
   "source": [
    "#imports\n",
    "import numpy as np\n",
    "from scipy.stats import chisquare\n",
    "import math"
   ]
  },
  {
   "cell_type": "code",
   "execution_count": 11,
   "metadata": {},
   "outputs": [],
   "source": [
    "# Load Data\n",
    "data = np.genfromtxt('scale-d-10d.csv', delimiter=' ')\n",
    "data = data[:,0:9]\n",
    "\n",
    "labels = np.genfromtxt('scale-d-10d.csv', delimiter=' ',dtype=\"|U5\")\n",
    "labels = labels[:,10]"
   ]
  },
  {
   "cell_type": "code",
   "execution_count": 12,
   "metadata": {},
   "outputs": [],
   "source": [
    "#dependencies: numpy, scipy (for scipy.stats.chisquare)\n",
    "class P3C:\n",
    "    \n",
    "    #class variables\n",
    "    _alpha = 0.001 #alpha for chi-squared-test\n",
    "\n",
    "    #Poisson threshold is the only parameter for P3C \n",
    "    def __init__(self, poisson_threshold): \n",
    "        \n",
    "        #sklearn-like attributes\n",
    "        self.labels_ = None\n",
    "        self.cluster_centers_ = None #\"cluster cores\"\n",
    "        \n",
    "        #internally used variables\n",
    "        self._poisson_threshold = poisson_threshold\n",
    "        self._supports = None\n",
    "        self._approx_proj = []   #nested list: 1st level: attributes, 2nd level:\n",
    "                                 #different intervals, 3rd level: start and end of inteval.\n",
    "                                 #used as interface between part 3.1 and 3.2\n",
    "    \n",
    "    # Compute Support set of all attributes\n",
    "    # SupportSet = {x ∈ D | x.aj ∈ S }\n",
    "    def __compute_support(self, M):\n",
    "        n = M.shape[0] # n = number of data objects\n",
    "        attribute_number = M.shape[1] # number of attributes \n",
    "        bin_number = int(1 + math.log(n,2)) # number of bins\n",
    "        list_of_supports = [] # list of all supports\n",
    "\n",
    "        for i in range(attribute_number):\n",
    "            supp_set = [[]for i in range(bin_number)]\n",
    "\n",
    "            # needs to get normalized \n",
    "            aj_max = np.max(M[:,i])\n",
    "            aj_min = np.min(M[:,i])\n",
    "\n",
    "            interval_length = (aj_max - aj_min ) / bin_number\n",
    "\n",
    "            bins = np.zeros([bin_number])\n",
    "\n",
    "            for k in range(bin_number):\n",
    "                bins[k] = aj_min + (k+1)*interval_length\n",
    "\n",
    "            for j in range(n):\n",
    "                supp_set_index = 0\n",
    "                for k in range(len(bins)):\n",
    "                    if M[j,i] > bins[k]:\n",
    "                        supp_set_index += 1\n",
    "\n",
    "                # I believe some kind of rounding error happens here\n",
    "                if supp_set_index < len(supp_set):\n",
    "                    supp_set[supp_set_index].append(M[j])\n",
    "                else:\n",
    "                    supp_set[len(supp_set) - 1].append(M[j])\n",
    "\n",
    "\n",
    "            list_of_supports.append(supp_set)\n",
    "\n",
    "\n",
    "        for i in range (len(list_of_supports)):\n",
    "            for j in range(len(list_of_supports[i])):\n",
    "                print(len(list_of_supports[i][j])) \n",
    "\n",
    "        return list_of_supports\n",
    "    \n",
    "    \n",
    "    def __approximate_projection(self):\n",
    "        \n",
    "        bins = np.zeros((len(self._supports), len(self._supports[0])))\n",
    "        #for attr_number in range(len(self._supports)): #loop over all attributes\n",
    "        for attr_number in [1, 2]: #loop over all attributes\n",
    "            \n",
    "            # part 1: create bin array            \n",
    "            supp = self._supports[attr_nunmber].copy() #make a copy of the supports of the current attribute\n",
    "            while __uniformity_test(supp) == False: #if not uniform find highest element\n",
    "                max_index = supp.index(max(supp))\n",
    "                \n",
    "                i = 1 \n",
    "                while i <= max_index: #loop to adjust max_index according to previousely deleted elements\n",
    "                    max_index += bins[attr_number, i]\n",
    "                    i += 1\n",
    "                \n",
    "                bins[attr_number, max_index]  = 1 #mark highest bin\n",
    "                supp.pop(max_index) #remove highest element from list\n",
    "                        \n",
    "            #part 2: create _approx_proj list from bin array\n",
    "            interval_list = [] #2d list for current attribute\n",
    "            interval = [] #current interval\n",
    "            open_interval = False\n",
    "            for i in range(len(bins[attr_number])):\n",
    "                if open_interval == False:\n",
    "                    if bins[attr_number, i] == 1:\n",
    "                        interval.append(i)\n",
    "                        open_interval = True\n",
    "                if open_interval == True:\n",
    "                    if bins[attr_number, i] == 0:\n",
    "                        inverval.append(i)\n",
    "                        interval_list.append (inverval)\n",
    "                        inverval = []\n",
    "                        open_inverval = False\n",
    "        \n",
    "            self._approx_proj.append (interval_list)\n",
    "        \n",
    "        \n",
    "    def __uniformity_test(self, attr):\n",
    "        if chisquare(attr) < alpha:\n",
    "            return True\n",
    "        return False  \n",
    "    \n",
    "    #data X is numpy.ndarray with samples x features (no label!)  \n",
    "    def fit (self, X):\n",
    "        #all the method calls of 3.1 and 3.2 we have to implement go here...\n",
    "        self.__compute_support(X)\n",
    "        self.__approximate_projection()\n",
    "        \n",
    "        #self.cluster_center_ = ... #used as interface between part 3.2. and 3.3\n",
    "        \n",
    "    #data X is numpy.ndarray with samples x features (no label!)  \n",
    "    def predict (self, X):\n",
    "        pass #remove pass when implementing predict (X)\n",
    "        \n",
    "        #all the method calls of 3.3, 3.4 and 3.5 we have to implement go here...\n",
    "        \n",
    "        #self.labels_ = #final result of the algorithm.\n",
    "        \n",
    "    #data X is numpy.ndarray with samples x features (no label!)  \n",
    "    def fit_predict (self, X):\n",
    "        self.fit (X)\n",
    "        self.predict (X)"
   ]
  },
  {
   "cell_type": "code",
   "execution_count": 13,
   "metadata": {
    "scrolled": true
   },
   "outputs": [
    {
     "name": "stdout",
     "output_type": "stream",
     "text": [
      "1\n",
      "11\n",
      "26\n",
      "76\n",
      "202\n",
      "1510\n",
      "3126\n",
      "2942\n",
      "1775\n",
      "211\n",
      "68\n",
      "34\n",
      "14\n",
      "4\n",
      "4\n",
      "11\n",
      "33\n",
      "79\n",
      "247\n",
      "1128\n",
      "2837\n",
      "3063\n",
      "2108\n",
      "319\n",
      "120\n",
      "36\n",
      "10\n",
      "5\n",
      "1\n",
      "0\n",
      "7\n",
      "44\n",
      "122\n",
      "330\n",
      "2254\n",
      "3315\n",
      "3113\n",
      "546\n",
      "180\n",
      "52\n",
      "26\n",
      "10\n",
      "7\n",
      "10\n",
      "44\n",
      "96\n",
      "269\n",
      "2312\n",
      "2852\n",
      "2721\n",
      "1329\n",
      "232\n",
      "91\n",
      "26\n",
      "9\n",
      "2\n",
      "3\n",
      "7\n",
      "25\n",
      "87\n",
      "191\n",
      "817\n",
      "2962\n",
      "3155\n",
      "2219\n",
      "334\n",
      "126\n",
      "49\n",
      "19\n",
      "6\n",
      "3\n",
      "11\n",
      "32\n",
      "116\n",
      "316\n",
      "1923\n",
      "3127\n",
      "3049\n",
      "1079\n",
      "231\n",
      "82\n",
      "24\n",
      "4\n",
      "3\n",
      "3\n",
      "11\n",
      "29\n",
      "91\n",
      "218\n",
      "911\n",
      "2931\n",
      "3086\n",
      "2189\n",
      "344\n",
      "133\n",
      "41\n",
      "8\n",
      "5\n",
      "1\n",
      "1\n",
      "10\n",
      "18\n",
      "83\n",
      "257\n",
      "2402\n",
      "3591\n",
      "3080\n",
      "406\n",
      "121\n",
      "25\n",
      "3\n",
      "2\n",
      "2\n",
      "8\n",
      "32\n",
      "135\n",
      "315\n",
      "2101\n",
      "3103\n",
      "2850\n",
      "1087\n",
      "226\n",
      "91\n",
      "39\n",
      "6\n",
      "5\n"
     ]
    },
    {
     "ename": "TypeError",
     "evalue": "object of type 'NoneType' has no len()",
     "output_type": "error",
     "traceback": [
      "\u001b[0;31m---------------------------------------------------------------------------\u001b[0m",
      "\u001b[0;31mTypeError\u001b[0m                                 Traceback (most recent call last)",
      "\u001b[0;32m<ipython-input-13-a23530f2e74c>\u001b[0m in \u001b[0;36m<module>\u001b[0;34m\u001b[0m\n\u001b[1;32m      1\u001b[0m \u001b[0mp3c\u001b[0m \u001b[0;34m=\u001b[0m \u001b[0mP3C\u001b[0m \u001b[0;34m(\u001b[0m\u001b[0;36m10\u001b[0m\u001b[0;34m)\u001b[0m\u001b[0;34m\u001b[0m\u001b[0;34m\u001b[0m\u001b[0m\n\u001b[0;32m----> 2\u001b[0;31m \u001b[0mp3c\u001b[0m\u001b[0;34m.\u001b[0m\u001b[0mfit\u001b[0m \u001b[0;34m(\u001b[0m\u001b[0mdata\u001b[0m\u001b[0;34m)\u001b[0m\u001b[0;34m\u001b[0m\u001b[0;34m\u001b[0m\u001b[0m\n\u001b[0m",
      "\u001b[0;32m<ipython-input-12-e61f4279c8cf>\u001b[0m in \u001b[0;36mfit\u001b[0;34m(self, X)\u001b[0m\n\u001b[1;32m    111\u001b[0m         \u001b[0;31m#all the method calls of 3.1 and 3.2 we have to implement go here...\u001b[0m\u001b[0;34m\u001b[0m\u001b[0;34m\u001b[0m\u001b[0;34m\u001b[0m\u001b[0m\n\u001b[1;32m    112\u001b[0m         \u001b[0mself\u001b[0m\u001b[0;34m.\u001b[0m\u001b[0m__compute_support\u001b[0m\u001b[0;34m(\u001b[0m\u001b[0mX\u001b[0m\u001b[0;34m)\u001b[0m\u001b[0;34m\u001b[0m\u001b[0;34m\u001b[0m\u001b[0m\n\u001b[0;32m--> 113\u001b[0;31m         \u001b[0mself\u001b[0m\u001b[0;34m.\u001b[0m\u001b[0m__approximate_projection\u001b[0m\u001b[0;34m(\u001b[0m\u001b[0;34m)\u001b[0m\u001b[0;34m\u001b[0m\u001b[0;34m\u001b[0m\u001b[0m\n\u001b[0m\u001b[1;32m    114\u001b[0m \u001b[0;34m\u001b[0m\u001b[0m\n\u001b[1;32m    115\u001b[0m         \u001b[0;31m#self.cluster_center_ = ... #used as interface between part 3.2. and 3.3\u001b[0m\u001b[0;34m\u001b[0m\u001b[0;34m\u001b[0m\u001b[0;34m\u001b[0m\u001b[0m\n",
      "\u001b[0;32m<ipython-input-12-e61f4279c8cf>\u001b[0m in \u001b[0;36m__approximate_projection\u001b[0;34m(self)\u001b[0m\n\u001b[1;32m     66\u001b[0m     \u001b[0;32mdef\u001b[0m \u001b[0m__approximate_projection\u001b[0m\u001b[0;34m(\u001b[0m\u001b[0mself\u001b[0m\u001b[0;34m)\u001b[0m\u001b[0;34m:\u001b[0m\u001b[0;34m\u001b[0m\u001b[0;34m\u001b[0m\u001b[0m\n\u001b[1;32m     67\u001b[0m \u001b[0;34m\u001b[0m\u001b[0m\n\u001b[0;32m---> 68\u001b[0;31m         \u001b[0mbins\u001b[0m \u001b[0;34m=\u001b[0m \u001b[0mnp\u001b[0m\u001b[0;34m.\u001b[0m\u001b[0mzeros\u001b[0m\u001b[0;34m(\u001b[0m\u001b[0;34m(\u001b[0m\u001b[0mlen\u001b[0m\u001b[0;34m(\u001b[0m\u001b[0mself\u001b[0m\u001b[0;34m.\u001b[0m\u001b[0m_supports\u001b[0m\u001b[0;34m)\u001b[0m\u001b[0;34m,\u001b[0m \u001b[0mlen\u001b[0m\u001b[0;34m(\u001b[0m\u001b[0mself\u001b[0m\u001b[0;34m.\u001b[0m\u001b[0m_supports\u001b[0m\u001b[0;34m[\u001b[0m\u001b[0;36m0\u001b[0m\u001b[0;34m]\u001b[0m\u001b[0;34m)\u001b[0m\u001b[0;34m)\u001b[0m\u001b[0;34m)\u001b[0m\u001b[0;34m\u001b[0m\u001b[0;34m\u001b[0m\u001b[0m\n\u001b[0m\u001b[1;32m     69\u001b[0m         \u001b[0;31m#for attr_number in range(len(self._supports)): #loop over all attributes\u001b[0m\u001b[0;34m\u001b[0m\u001b[0;34m\u001b[0m\u001b[0;34m\u001b[0m\u001b[0m\n\u001b[1;32m     70\u001b[0m         \u001b[0;32mfor\u001b[0m \u001b[0mattr_number\u001b[0m \u001b[0;32min\u001b[0m \u001b[0;34m[\u001b[0m\u001b[0;36m1\u001b[0m\u001b[0;34m,\u001b[0m \u001b[0;36m2\u001b[0m\u001b[0;34m]\u001b[0m\u001b[0;34m:\u001b[0m \u001b[0;31m#loop over all attributes\u001b[0m\u001b[0;34m\u001b[0m\u001b[0;34m\u001b[0m\u001b[0m\n",
      "\u001b[0;31mTypeError\u001b[0m: object of type 'NoneType' has no len()"
     ]
    }
   ],
   "source": [
    "p3c = P3C (10)\n",
    "p3c.fit (data)"
   ]
  },
  {
   "cell_type": "code",
   "execution_count": 269,
   "metadata": {},
   "outputs": [],
   "source": [
    "# 3.1\n",
    "def proj_true_p_signature(M):\n",
    "    \n",
    "    # For every bin in every attribute, its support is computed\n",
    "    supp_sets = compute_support(M)\n",
    "    \n",
    "\n",
    "\n",
    "    return None"
   ]
  },
  {
   "cell_type": "code",
   "execution_count": 271,
   "metadata": {},
   "outputs": [],
   "source": [
    "# Compute Support set of all attributes\n",
    "# SupportSet = {x ∈ D | x.aj ∈ S }\n",
    "def compute_support(M):\n",
    "    n = M.shape[0] # n = number of data objects\n",
    "    attribute_number = M.shape[1] # number of attributes \n",
    "    bin_number = int(1 + math.log(n,2)) # number of bins\n",
    "    list_of_supports = [] # list of all supports\n",
    "    \n",
    "    for i in range(attribute_number):\n",
    "        supp_set = [[]for i in range(3)]\n",
    "    \n",
    "        aj_max = np.max(M[:,i])\n",
    "        aj_min = np.min(M[:,i])\n",
    "    \n",
    "        interval_length = (aj_max - aj_min ) / bin_number\n",
    "    \n",
    "        bins = np.zeros([bin_number])\n",
    "    \n",
    "        for k in range(bin_number):\n",
    "            bins[k] = aj_min + (k+1)*interval_length\n",
    "        \n",
    "        for j in range(n):\n",
    "            supp_set_index = 0\n",
    "            for k in range(len(bins)):\n",
    "                if M[j,i] > bins[k]:\n",
    "                    supp_set_index += 1\n",
    "            supp_set[supp_set_index].append(M[j])\n",
    "    \n",
    "        list_of_supports.append(supp_set)\n",
    "    \n",
    "    \n",
    "    return list_of_supports"
   ]
  },
  {
   "cell_type": "code",
   "execution_count": 272,
   "metadata": {},
   "outputs": [
    {
     "name": "stdout",
     "output_type": "stream",
     "text": [
      "[[ 0.65264191 -0.00371625  0.01521223 ...  0.21708319  0.78426444\n",
      "   0.27407853]\n",
      " [ 1.01930291  0.35519293  0.47796839 ...  0.60008908  0.35612478\n",
      "   0.24724175]\n",
      " [ 0.5940366  -0.33190342 -0.10154468 ...  0.68686449  0.53546747\n",
      "   1.27822433]\n",
      " ...\n",
      " [ 0.84569877  0.35925799  0.64490759 ...  0.87088832  0.63797899\n",
      "   0.87146842]\n",
      " [ 0.27499317  0.49355767  0.20943054 ...  0.93080848  0.72043327\n",
      "   1.42526599]\n",
      " [ 0.39640662  0.57944655  0.980204   ...  0.0876678   0.15534795\n",
      "   0.67756318]]\n",
      "(10000, 9)\n",
      "['C1' 'C1' 'C1' ... 'C100' 'C100' 'C100']\n",
      "(10000,)\n",
      "14\n"
     ]
    }
   ],
   "source": [
    "print(data)\n",
    "print(data.shape)\n",
    "\n",
    "print(labels)\n",
    "print(labels.shape)\n",
    "\n",
    "\n",
    "print(int(1 + math.log(data.shape[0],2)))"
   ]
  },
  {
   "cell_type": "code",
   "execution_count": 273,
   "metadata": {},
   "outputs": [
    {
     "name": "stdout",
     "output_type": "stream",
     "text": [
      "[[[array([1, 2])], [array([4, 5]), array([3, 3])], [array([6, 7])]], [[array([1, 2]), array([3, 3])], [array([4, 5])], [array([6, 7])]]]\n"
     ]
    }
   ],
   "source": [
    "M = np.array([[1, 2], [4, 5], [3, 3], [6, 7]])\n",
    "print(compute_support(M))"
   ]
  },
  {
   "cell_type": "code",
   "execution_count": 274,
   "metadata": {},
   "outputs": [
    {
     "name": "stdout",
     "output_type": "stream",
     "text": [
      "[[array([1, 2])], [array([4, 5]), array([3, 3])], [array([6, 7])]]\n",
      "[[array([1, 2]), array([3, 3])], [array([4, 5])], [array([6, 7])]]\n"
     ]
    }
   ],
   "source": [
    "# Extra\n",
    "M = np.array([[1, 2], [4, 5], [3, 3], [6, 7]])\n",
    "n = M.shape[0] # n = number of data objects\n",
    "attribute_number = M.shape[1] # number of attributes \n",
    "bin_number = int(1 + math.log(n,2)) # number of bins\n",
    "list_of_supports = [] # list of all supports\n",
    "\n",
    "for i in range(attribute_number):\n",
    "    supp_set = [[]for i in range(3)]\n",
    "    \n",
    "    aj_max = np.max(M[:,i])\n",
    "    aj_min = np.min(M[:,i])\n",
    "    interval_length = (aj_max - aj_min ) / bin_number\n",
    "    bins = np.zeros([bin_number])\n",
    "    for k in range(bin_number):\n",
    "        bins[k] = aj_min + (k+1)*interval_length\n",
    "        \n",
    "    for j in range(n):\n",
    "        supp_set_index = 0\n",
    "        for k in range(len(bins)):\n",
    "            if M[j,i] > bins[k]:\n",
    "                supp_set_index += 1\n",
    "        supp_set[supp_set_index].append(M[j])\n",
    "    \n",
    "    print(supp_set)\n",
    "    \n"
   ]
  },
  {
   "cell_type": "code",
   "execution_count": 263,
   "metadata": {},
   "outputs": [
    {
     "data": {
      "text/plain": [
       "[[array([4, 5])], [], [array([6, 7])]]"
      ]
     },
     "execution_count": 263,
     "metadata": {},
     "output_type": "execute_result"
    }
   ],
   "source": [
    "M = np.array([[1, 2], [4, 5], [3, 3], [6, 7]])\n",
    "\n",
    "supp_set = [[]for i in range(3)]\n",
    "supp_set[0].append(M[1])\n",
    "supp_set[2].append(M[3])\n",
    "\n",
    "supp_set"
   ]
  },
  {
   "cell_type": "code",
   "execution_count": 172,
   "metadata": {},
   "outputs": [
    {
     "data": {
      "text/plain": [
       "[1, 2, 3, 4]"
      ]
     },
     "execution_count": 172,
     "metadata": {},
     "output_type": "execute_result"
    }
   ],
   "source": []
  },
  {
   "cell_type": "code",
   "execution_count": 206,
   "metadata": {},
   "outputs": [
    {
     "data": {
      "text/plain": [
       "4.333333333333334"
      ]
     },
     "execution_count": 206,
     "metadata": {},
     "output_type": "execute_result"
    }
   ],
   "source": [
    "1 + 2*interval_length"
   ]
  },
  {
   "cell_type": "code",
   "execution_count": null,
   "metadata": {},
   "outputs": [],
   "source": []
  }
 ],
 "metadata": {
  "kernelspec": {
   "display_name": "Python 3",
   "language": "python",
   "name": "python3"
  },
  "language_info": {
   "codemirror_mode": {
    "name": "ipython",
    "version": 3
   },
   "file_extension": ".py",
   "mimetype": "text/x-python",
   "name": "python",
   "nbconvert_exporter": "python",
   "pygments_lexer": "ipython3",
   "version": "3.8.10"
  }
 },
 "nbformat": 4,
 "nbformat_minor": 4
}
